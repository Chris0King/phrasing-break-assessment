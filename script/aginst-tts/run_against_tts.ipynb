{
 "cells": [
  {
   "cell_type": "code",
   "execution_count": 1,
   "metadata": {},
   "outputs": [
    {
     "data": {
      "text/html": [
       "<div>\n",
       "<style scoped>\n",
       "    .dataframe tbody tr th:only-of-type {\n",
       "        vertical-align: middle;\n",
       "    }\n",
       "\n",
       "    .dataframe tbody tr th {\n",
       "        vertical-align: top;\n",
       "    }\n",
       "\n",
       "    .dataframe thead th {\n",
       "        text-align: right;\n",
       "    }\n",
       "</style>\n",
       "<table border=\"1\" class=\"dataframe\">\n",
       "  <thead>\n",
       "    <tr style=\"text-align: right;\">\n",
       "      <th></th>\n",
       "      <th>wav_path</th>\n",
       "      <th>score</th>\n",
       "      <th>rank</th>\n",
       "    </tr>\n",
       "  </thead>\n",
       "  <tbody>\n",
       "    <tr>\n",
       "      <th>0</th>\n",
       "      <td>D:/Xiaoying/paper/icassp2023/wavs/430-20190409...</td>\n",
       "      <td>0.600000</td>\n",
       "      <td>2</td>\n",
       "    </tr>\n",
       "    <tr>\n",
       "      <th>1</th>\n",
       "      <td>D:/Xiaoying/paper/icassp2023/wavs/430-20190316...</td>\n",
       "      <td>0.933333</td>\n",
       "      <td>3</td>\n",
       "    </tr>\n",
       "    <tr>\n",
       "      <th>2</th>\n",
       "      <td>D:/Xiaoying/paper/icassp2023/wavs/430-20191219...</td>\n",
       "      <td>0.733333</td>\n",
       "      <td>3</td>\n",
       "    </tr>\n",
       "    <tr>\n",
       "      <th>3</th>\n",
       "      <td>D:/Xiaoying/paper/icassp2023/wavs/430-20190726...</td>\n",
       "      <td>0.666667</td>\n",
       "      <td>2</td>\n",
       "    </tr>\n",
       "    <tr>\n",
       "      <th>4</th>\n",
       "      <td>D:/Xiaoying/paper/icassp2023/wavs/430-20190319...</td>\n",
       "      <td>0.800000</td>\n",
       "      <td>3</td>\n",
       "    </tr>\n",
       "    <tr>\n",
       "      <th>...</th>\n",
       "      <td>...</td>\n",
       "      <td>...</td>\n",
       "      <td>...</td>\n",
       "    </tr>\n",
       "    <tr>\n",
       "      <th>1381</th>\n",
       "      <td>D:/Xiaoying/paper/icassp2023/wavs/459-20180908...</td>\n",
       "      <td>0.238656</td>\n",
       "      <td>1</td>\n",
       "    </tr>\n",
       "    <tr>\n",
       "      <th>1382</th>\n",
       "      <td>D:/Xiaoying/paper/icassp2023/wavs/459-20180908...</td>\n",
       "      <td>0.561804</td>\n",
       "      <td>2</td>\n",
       "    </tr>\n",
       "    <tr>\n",
       "      <th>1383</th>\n",
       "      <td>D:/Xiaoying/paper/icassp2023/wavs/459-20180908...</td>\n",
       "      <td>0.292536</td>\n",
       "      <td>1</td>\n",
       "    </tr>\n",
       "    <tr>\n",
       "      <th>1384</th>\n",
       "      <td>D:/Xiaoying/paper/icassp2023/wavs/459-20191108...</td>\n",
       "      <td>0.764706</td>\n",
       "      <td>3</td>\n",
       "    </tr>\n",
       "    <tr>\n",
       "      <th>1385</th>\n",
       "      <td>D:/Xiaoying/paper/icassp2023/wavs/459-20191109...</td>\n",
       "      <td>0.764706</td>\n",
       "      <td>3</td>\n",
       "    </tr>\n",
       "  </tbody>\n",
       "</table>\n",
       "<p>1386 rows × 3 columns</p>\n",
       "</div>"
      ],
      "text/plain": [
       "                                               wav_path     score  rank\n",
       "0     D:/Xiaoying/paper/icassp2023/wavs/430-20190409...  0.600000     2\n",
       "1     D:/Xiaoying/paper/icassp2023/wavs/430-20190316...  0.933333     3\n",
       "2     D:/Xiaoying/paper/icassp2023/wavs/430-20191219...  0.733333     3\n",
       "3     D:/Xiaoying/paper/icassp2023/wavs/430-20190726...  0.666667     2\n",
       "4     D:/Xiaoying/paper/icassp2023/wavs/430-20190319...  0.800000     3\n",
       "...                                                 ...       ...   ...\n",
       "1381  D:/Xiaoying/paper/icassp2023/wavs/459-20180908...  0.238656     1\n",
       "1382  D:/Xiaoying/paper/icassp2023/wavs/459-20180908...  0.561804     2\n",
       "1383  D:/Xiaoying/paper/icassp2023/wavs/459-20180908...  0.292536     1\n",
       "1384  D:/Xiaoying/paper/icassp2023/wavs/459-20191108...  0.764706     3\n",
       "1385  D:/Xiaoying/paper/icassp2023/wavs/459-20191109...  0.764706     3\n",
       "\n",
       "[1386 rows x 3 columns]"
      ]
     },
     "execution_count": 1,
     "metadata": {},
     "output_type": "execute_result"
    }
   ],
   "source": [
    "import pandas as pd\n",
    "\n",
    "tts_res = pd.read_csv('./results-against-tts.csv',\n",
    "                      delim_whitespace=True,\n",
    "                      names=[\"wav_path\", \"score\", \"rank\"])\n",
    "tts_res"
   ]
  },
  {
   "cell_type": "code",
   "execution_count": 28,
   "metadata": {},
   "outputs": [],
   "source": [
    "from sklearn.metrics import f1_score, precision_score, recall_score, classification_report, multilabel_confusion_matrix\n",
    "\n",
    "\n",
    "def get_report(i):\n",
    "    test_df=pd.read_csv(f'../../test/coarse_grain_set/coarse_grain_testset_{i}.csv')\n",
    "    y_true = []\n",
    "    y_pred = []\n",
    "    for index, row in test_df.iterrows():\n",
    "        wavid=row['wavid']\n",
    "        label=row['label']\n",
    "        target_df = tts_res[tts_res['wav_path'].str.contains(wavid)]\n",
    "        pred_val = target_df['rank'].values[0]\n",
    "        if pred_val not in [1,2,3]:\n",
    "            print(wavid)\n",
    "        if pred_val == 3 and label == 1:\n",
    "            print(i, wavid)\n",
    "        y_pred.append(pred_val-1)\n",
    "        y_true.append(label-1)\n",
    "    # res = classification_report(y_true,\n",
    "    #                             y_pred,\n",
    "    #                             labels=[0, 1, 2],\n",
    "    #                             output_dict=True)\n",
    "    # return (res)\n",
    "    return [i + 1 for i in y_true], [i + 1 for i in y_pred]\n"
   ]
  },
  {
   "cell_type": "code",
   "execution_count": 4,
   "metadata": {},
   "outputs": [
    {
     "name": "stdout",
     "output_type": "stream",
     "text": [
      "True\n",
      "True\n",
      "True\n",
      "True\n",
      "True\n"
     ]
    }
   ],
   "source": [
    "import numpy as np\n",
    "\n",
    "report_res = []\n",
    "for i in range(0, 5):\n",
    "    path = f'../overall_evaluation/res/coarse_grain_testset_{i}.csv'\n",
    "    res_df = pd.read_csv(path)\n",
    "    labels, preds = get_report(i)\n",
    "    if (np.array(labels) == np.array(res_df['label'].values.tolist())).all():\n",
    "        print(True)\n",
    "    else:\n",
    "        print(False)\n",
    "    res_df.insert(res_df.shape[1], \"Against-TTS\", preds)\n",
    "    res_df.to_csv(path, index=False)"
   ]
  },
  {
   "cell_type": "code",
   "execution_count": 2,
   "metadata": {},
   "outputs": [],
   "source": [
    "# 混淆矩阵\n",
    "\n",
    "import numpy as np\n",
    "import matplotlib.pyplot as plt\n",
    "from sklearn.metrics import confusion_matrix\n",
    "\n",
    "# classes = ['A','B','C','D','E']\n",
    "# confusion_matrix = np.array([(9,1,3,4,0),(2,13,1,3,4),(1,4,10,0,13),(3,1,1,17,0),(0,0,0,1,14)],dtype=np.float64)\n",
    "\n",
    "def show_confusion_max(y_true, y_pred):\n",
    "    # 标签\n",
    "    classes = ['poor', 'fair', ' great']\n",
    "    # 标签的个数\n",
    "    classNamber = 3\n",
    "\n",
    "    # 在标签中的矩阵\n",
    "    cm = confusion_matrix(y_true=y_true, y_pred=y_pred)\n",
    "    # print(confusion_matrix)\n",
    "\n",
    "    plt.imshow(cm, interpolation='nearest',\n",
    "            cmap=plt.cm.Oranges)  #按照像素显示出矩阵\n",
    "    plt.title('Confusion matrix')\n",
    "    plt.colorbar()\n",
    "    tick_marks = np.arange(len(classes))\n",
    "    plt.xticks(tick_marks, classes, rotation=-45)\n",
    "    plt.yticks(tick_marks, classes)\n",
    "\n",
    "    thresh = cm.max() / 2.\n",
    "    #iters = [[i,j] for i in range(len(classes)) for j in range((classes))]\n",
    "    #ij配对，遍历矩阵迭代器\n",
    "    iters = np.reshape([[[i, j] for j in range(classNamber)]\n",
    "                        for i in range(classNamber)], (cm.size, 2))\n",
    "    for i, j in iters:\n",
    "        plt.text(j, i, format(cm[i, j]), va='center',\n",
    "                ha='center')  #显示对应的数字\n",
    "\n",
    "    plt.ylabel('True Label')\n",
    "    plt.xlabel('Predicted  Label')\n",
    "    plt.tight_layout()\n",
    "    plt.show()\n"
   ]
  },
  {
   "cell_type": "code",
   "execution_count": 29,
   "metadata": {},
   "outputs": [
    {
     "name": "stdout",
     "output_type": "stream",
     "text": [
      "1 428-20191020_fd60180f9d3744cda5c9b9c73b274183\n",
      "1 430-20190203_2195f16db65c43b5aee65b3ba9859953\n",
      "2 459-20191028_57213c6d3b934bfda0b2a6d65def71ab\n",
      "coarse grained: against tts\n"
     ]
    },
    {
     "data": {
      "image/png": "[encoded data removed]",
      "text/plain": [
       "<Figure size 432x288 with 2 Axes>"
      ]
     },
     "metadata": {
      "needs_background": "light"
     },
     "output_type": "display_data"
    }
   ],
   "source": [
    "y_true = []\n",
    "y_pred = []\n",
    "for i in range(0,5):\n",
    "    t, p=get_report(i)\n",
    "    y_true.extend(t)\n",
    "    y_pred.extend(p)\n",
    "\n",
    "print(\"coarse grained: against tts\")\n",
    "show_confusion_max(y_true, y_pred)"
   ]
  },
  {
   "cell_type": "code",
   "execution_count": 5,
   "metadata": {},
   "outputs": [
    {
     "name": "stdout",
     "output_type": "stream",
     "text": [
      "#Break-BERT: coarse grained\n"
     ]
    },
    {
     "data": {
      "image/png": "[encoded data removed]",
      "text/plain": [
       "<Figure size 432x288 with 2 Axes>"
      ]
     },
     "metadata": {
      "needs_background": "light"
     },
     "output_type": "display_data"
    }
   ],
   "source": [
    "y_true = []\n",
    "y_pred = []\n",
    "for i in range(0, 5):\n",
    "    res_df=pd.read_csv(f'../overall_evaluation/res/coarse_grain_testset_{i}.csv')\n",
    "    t = res_df[\"label\"].values.tolist()\n",
    "    p = res_df[\"#Break-BERT\"].values.tolist()\n",
    "    y_true.extend(t)\n",
    "    y_pred.extend(p)\n",
    "\n",
    "print(\"#Break-BERT: coarse grained\")\n",
    "show_confusion_max(y_true, y_pred)"
   ]
  },
  {
   "cell_type": "code",
   "execution_count": 19,
   "metadata": {},
   "outputs": [
    {
     "name": "stdout",
     "output_type": "stream",
     "text": [
      "Against-TTS fine-grained\n"
     ]
    },
    {
     "data": {
      "image/png": "[encoded data removed]",
      "text/plain": [
       "<Figure size 432x288 with 2 Axes>"
      ]
     },
     "metadata": {
      "needs_background": "light"
     },
     "output_type": "display_data"
    }
   ],
   "source": [
    "y_true = []\n",
    "y_pred = []\n",
    "for i in range(0, 5):\n",
    "    res_df = pd.read_csv(\n",
    "        f'../fine-grained_evaluation/res/fine_grain_testset_{i}.csv')\n",
    "    t = sum([eval(i)[1::2] for i in res_df[\"label\"].values.tolist()], [])\n",
    "    p = sum([eval(i) for i in res_df[\"Against-TTS\"].values.tolist()],[])\n",
    "    y_true.extend(t)\n",
    "    y_pred.extend(p)\n",
    "print(\"Against-TTS fine-grained\")\n",
    "show_confusion_max(y_true, y_pred)"
   ]
  },
  {
   "cell_type": "code",
   "execution_count": 5,
   "metadata": {},
   "outputs": [
    {
     "name": "stdout",
     "output_type": "stream",
     "text": [
      "#Break-BERT fine-grained\n"
     ]
    },
    {
     "data": {
      "image/png": "[encoded data removed]",
      "text/plain": [
       "<Figure size 432x288 with 2 Axes>"
      ]
     },
     "metadata": {
      "needs_background": "light"
     },
     "output_type": "display_data"
    }
   ],
   "source": [
    "y_true = []\n",
    "y_pred = []\n",
    "for i in range(0, 5):\n",
    "    res_df = pd.read_csv(\n",
    "        f'../fine-grained_evaluation/res/fine_grain_testset_{i}.csv')\n",
    "    t = sum([eval(i)[1::2] for i in res_df[\"label\"].values.tolist()], [])\n",
    "    p = sum([eval(i) for i in res_df[\"#Break-BERT\"].values.tolist()],[])\n",
    "    y_true.extend(t)\n",
    "    y_pred.extend(p)\n",
    "print(\"#Break-BERT fine-grained\")\n",
    "show_confusion_max(y_true, y_pred)"
   ]
  },
  {
   "cell_type": "code",
   "execution_count": 6,
   "metadata": {},
   "outputs": [
    {
     "name": "stdout",
     "output_type": "stream",
     "text": [
      "#BERT\n"
     ]
    },
    {
     "data": {
      "image/png": "[encoded data removed]",
      "text/plain": [
       "<Figure size 432x288 with 2 Axes>"
      ]
     },
     "metadata": {
      "needs_background": "light"
     },
     "output_type": "display_data"
    }
   ],
   "source": [
    "y_true = []\n",
    "y_pred = []\n",
    "for i in range(0, 5):\n",
    "    res_df=pd.read_csv(f'../overall_evaluation/res/coarse_grain_testset_{i}.csv')\n",
    "    t = res_df[\"label\"].values.tolist()\n",
    "    p = res_df[\"#BERT\"].values.tolist()\n",
    "    y_true.extend(t)\n",
    "    y_pred.extend(p)\n",
    "\n",
    "print(\"#BERT\")\n",
    "show_confusion_max(y_true, y_pred)"
   ]
  },
  {
   "cell_type": "code",
   "execution_count": 3,
   "metadata": {},
   "outputs": [
    {
     "name": "stdout",
     "output_type": "stream",
     "text": [
      "1 428-20191020_fd60180f9d3744cda5c9b9c73b274183\n",
      "1 430-20190203_2195f16db65c43b5aee65b3ba9859953\n",
      "2 459-20191028_57213c6d3b934bfda0b2a6d65def71ab\n",
      "[{'0': {'precision': 0.07407407407407407, 'recall': 0.5, 'f1-score': 0.12903225806451613, 'support': 4}, '1': {'precision': 0.16666666666666666, 'recall': 0.35, 'f1-score': 0.22580645161290322, 'support': 20}, '2': {'precision': 0.8923076923076924, 'recall': 0.5272727272727272, 'f1-score': 0.6628571428571428, 'support': 110}, 'accuracy': 0.5, 'macro avg': {'precision': 0.37768281101614437, 'recall': 0.45909090909090905, 'f1-score': 0.3392319508448541, 'support': 134}, 'weighted avg': {'precision': 0.7595781774886253, 'recall': 0.5, 'f1-score': 0.5816906252149391, 'support': 134}}, {'0': {'precision': 0.0, 'recall': 0.0, 'f1-score': 0.0, 'support': 3}, '1': {'precision': 0.45, 'recall': 0.42857142857142855, 'f1-score': 0.4390243902439024, 'support': 42}, '2': {'precision': 0.8, 'recall': 0.7079646017699115, 'f1-score': 0.7511737089201878, 'support': 113}, 'accuracy': 0.620253164556962, 'macro avg': {'precision': 0.4166666666666667, 'recall': 0.37884534344711335, 'f1-score': 0.3967326997213634, 'support': 158}, 'weighted avg': {'precision': 0.6917721518987342, 'recall': 0.620253164556962, 'f1-score': 0.6539345158115514, 'support': 158}}, {'0': {'precision': 0.07692307692307693, 'recall': 0.16666666666666666, 'f1-score': 0.10526315789473684, 'support': 6}, '1': {'precision': 0.47619047619047616, 'recall': 0.46511627906976744, 'f1-score': 0.4705882352941176, 'support': 43}, '2': {'precision': 0.7904761904761904, 'recall': 0.7477477477477478, 'f1-score': 0.7685185185185186, 'support': 111}, 'accuracy': 0.65, 'macro avg': {'precision': 0.4478632478632479, 'recall': 0.45984356449472735, 'f1-score': 0.4481233039024577, 'support': 160}, 'weighted avg': {'precision': 0.679253663003663, 'recall': 0.65, 'f1-score': 0.6635776788785691, 'support': 160}}, {'0': {'precision': 0.05, 'recall': 0.3333333333333333, 'f1-score': 0.08695652173913045, 'support': 3}, '1': {'precision': 0.1527777777777778, 'recall': 0.6470588235294118, 'f1-score': 0.24719101123595508, 'support': 17}, '2': {'precision': 0.9711538461538461, 'recall': 0.5738636363636364, 'f1-score': 0.7214285714285714, 'support': 176}, 'accuracy': 0.576530612244898, 'macro avg': {'precision': 0.3913105413105413, 'recall': 0.5180852644087938, 'f1-score': 0.3518587014678856, 'support': 196}, 'weighted avg': {'precision': 0.8860729548229549, 'recall': 0.576530612244898, 'f1-score': 0.6705844149370265, 'support': 196}}, {'0': {'precision': 0.03225806451612903, 'recall': 0.4, 'f1-score': 0.05970149253731343, 'support': 5}, '1': {'precision': 0.175, 'recall': 0.5, 'f1-score': 0.25925925925925924, 'support': 14}, '2': {'precision': 0.96, 'recall': 0.3609022556390977, 'f1-score': 0.5245901639344263, 'support': 133}, 'accuracy': 0.375, 'macro avg': {'precision': 0.38908602150537636, 'recall': 0.42030075187969923, 'f1-score': 0.28118363857699963, 'support': 152}, 'weighted avg': {'precision': 0.8571795415959252, 'recall': 0.375, 'f1-score': 0.4848594006289137, 'support': 152}}]\n"
     ]
    }
   ],
   "source": [
    "report_res=[]\n",
    "for i in range(0,5):\n",
    "    report_res.append(get_report(i))\n",
    "print(report_res)"
   ]
  },
  {
   "cell_type": "code",
   "execution_count": 4,
   "metadata": {},
   "outputs": [
    {
     "name": "stdout",
     "output_type": "stream",
     "text": [
      "1 430-20190203_2195f16db65c43b5aee65b3ba9859953\n",
      "1 428-20191020_fd60180f9d3744cda5c9b9c73b274183\n",
      "2 459-20191028_57213c6d3b934bfda0b2a6d65def71ab\n",
      "[{'0': {'precision': 0.07692307692307693, 'recall': 0.5, 'f1-score': 0.13333333333333336, 'support': 4}, '1': {'precision': 0.16666666666666666, 'recall': 0.35, 'f1-score': 0.22580645161290322, 'support': 20}, '2': {'precision': 0.8970588235294118, 'recall': 0.5446428571428571, 'f1-score': 0.6777777777777778, 'support': 112}, 'accuracy': 0.5147058823529411, 'macro avg': {'precision': 0.38021618903971843, 'recall': 0.46488095238095234, 'f1-score': 0.34563918757467144, 'support': 136}, 'weighted avg': {'precision': 0.7655265726199981, 'recall': 0.5147058823529411, 'f1-score': 0.5952983343875184, 'support': 136}}, {'0': {'precision': 0.0, 'recall': 0.0, 'f1-score': 0.0, 'support': 3}, '1': {'precision': 0.45, 'recall': 0.42857142857142855, 'f1-score': 0.4390243902439024, 'support': 42}, '2': {'precision': 0.8, 'recall': 0.7079646017699115, 'f1-score': 0.7511737089201878, 'support': 113}, 'accuracy': 0.620253164556962, 'macro avg': {'precision': 0.4166666666666667, 'recall': 0.37884534344711335, 'f1-score': 0.3967326997213634, 'support': 158}, 'weighted avg': {'precision': 0.6917721518987342, 'recall': 0.620253164556962, 'f1-score': 0.6539345158115514, 'support': 158}}, {'0': {'precision': 0.07692307692307693, 'recall': 0.16666666666666666, 'f1-score': 0.10526315789473684, 'support': 6}, '1': {'precision': 0.4878048780487805, 'recall': 0.46511627906976744, 'f1-score': 0.4761904761904762, 'support': 43}, '2': {'precision': 0.7904761904761904, 'recall': 0.7545454545454545, 'f1-score': 0.772093023255814, 'support': 110}, 'accuracy': 0.6540880503144654, 'macro avg': {'precision': 0.4517347151493493, 'recall': 0.4621094667606296, 'f1-score': 0.4511822191136757, 'support': 159}, 'weighted avg': {'precision': 0.6816951520126854, 'recall': 0.6540880503144654, 'f1-score': 0.6669056728408707, 'support': 159}}, {'0': {'precision': 0.0, 'recall': 0.0, 'f1-score': 0.0, 'support': 1}, '1': {'precision': 0.14864864864864866, 'recall': 0.6470588235294118, 'f1-score': 0.24175824175824176, 'support': 17}, '2': {'precision': 0.970873786407767, 'recall': 0.5649717514124294, 'f1-score': 0.7142857142857143, 'support': 177}, 'accuracy': 0.5692307692307692, 'macro avg': {'precision': 0.37317414501880525, 'recall': 0.4040101916472804, 'f1-score': 0.3186813186813187, 'support': 195}, 'weighted avg': {'precision': 0.8942137806215477, 'recall': 0.5692307692307692, 'f1-score': 0.6694280078895464, 'support': 195}}, {'0': {'precision': 0.03333333333333333, 'recall': 0.5, 'f1-score': 0.0625, 'support': 4}, '1': {'precision': 0.17073170731707318, 'recall': 0.5, 'f1-score': 0.2545454545454546, 'support': 14}, '2': {'precision': 0.9607843137254902, 'recall': 0.3656716417910448, 'f1-score': 0.5297297297297298, 'support': 134}, 'accuracy': 0.3815789473684211, 'macro avg': {'precision': 0.38828311812529887, 'recall': 0.45522388059701496, 'f1-score': 0.28225839475839476, 'support': 152}, 'weighted avg': {'precision': 0.8636097057565003, 'recall': 0.3815789473684211, 'f1-score': 0.4920882904435537, 'support': 152}}]\n"
     ]
    }
   ],
   "source": [
    "report_res=[]\n",
    "for i in range(0,5):\n",
    "    report_res.append(get_report(i))\n",
    "print(report_res)"
   ]
  },
  {
   "cell_type": "code",
   "execution_count": 5,
   "metadata": {},
   "outputs": [],
   "source": [
    "import json\n",
    "path = './res.json'\n",
    "with open(path,'w') as f:\n",
    "    json.dump(report_res, f)"
   ]
  },
  {
   "cell_type": "code",
   "execution_count": 9,
   "metadata": {},
   "outputs": [
    {
     "data": {
      "text/html": [
       "<div>\n",
       "<style scoped>\n",
       "    .dataframe tbody tr th:only-of-type {\n",
       "        vertical-align: middle;\n",
       "    }\n",
       "\n",
       "    .dataframe tbody tr th {\n",
       "        vertical-align: top;\n",
       "    }\n",
       "\n",
       "    .dataframe thead th {\n",
       "        text-align: right;\n",
       "    }\n",
       "</style>\n",
       "<table border=\"1\" class=\"dataframe\">\n",
       "  <thead>\n",
       "    <tr style=\"text-align: right;\">\n",
       "      <th></th>\n",
       "      <th>wav_path</th>\n",
       "      <th>score</th>\n",
       "      <th>rank</th>\n",
       "    </tr>\n",
       "  </thead>\n",
       "  <tbody>\n",
       "    <tr>\n",
       "      <th>0</th>\n",
       "      <td>D:/Xiaoying/paper/icassp2023/wavs/430-20190409...</td>\n",
       "      <td>PLENTY OF COMPLICATED THOUGHTS ABOUT THE RAINB...</td>\n",
       "      <td>&lt;1&gt;&lt;1&gt;&lt;3&gt;&lt;3&gt;&lt;1&gt;&lt;1&gt;&lt;3&gt;&lt;1&gt;&lt;1&gt;</td>\n",
       "    </tr>\n",
       "    <tr>\n",
       "      <th>1</th>\n",
       "      <td>D:/Xiaoying/paper/icassp2023/wavs/430-20190316...</td>\n",
       "      <td>PLENTY OF COMPLICATED THOUGHTS ABOUT THE RAINB...</td>\n",
       "      <td>&lt;3&gt;&lt;3&gt;&lt;3&gt;&lt;3&gt;&lt;3&gt;&lt;3&gt;&lt;1&gt;&lt;3&gt;&lt;3&gt;</td>\n",
       "    </tr>\n",
       "    <tr>\n",
       "      <th>2</th>\n",
       "      <td>D:/Xiaoying/paper/icassp2023/wavs/430-20191219...</td>\n",
       "      <td>PLENTY OF COMPLICATED THOUGHTS ABOUT THE RAINB...</td>\n",
       "      <td>&lt;3&gt;&lt;1&gt;&lt;1&gt;&lt;3&gt;&lt;3&gt;&lt;3&gt;&lt;3&gt;&lt;1&gt;&lt;1&gt;</td>\n",
       "    </tr>\n",
       "    <tr>\n",
       "      <th>3</th>\n",
       "      <td>D:/Xiaoying/paper/icassp2023/wavs/430-20190726...</td>\n",
       "      <td>PLENTY OF COMPLICATED THOUGHTS ABOUT THE RAINB...</td>\n",
       "      <td>&lt;3&gt;&lt;3&gt;&lt;3&gt;&lt;1&gt;&lt;1&gt;&lt;1&gt;&lt;1&gt;&lt;3&gt;&lt;1&gt;</td>\n",
       "    </tr>\n",
       "    <tr>\n",
       "      <th>4</th>\n",
       "      <td>D:/Xiaoying/paper/icassp2023/wavs/430-20190319...</td>\n",
       "      <td>PLENTY OF COMPLICATED THOUGHTS ABOUT THE RAINB...</td>\n",
       "      <td>&lt;3&gt;&lt;1&gt;&lt;3&gt;&lt;1&gt;&lt;3&gt;&lt;3&gt;&lt;1&gt;&lt;3&gt;&lt;3&gt;</td>\n",
       "    </tr>\n",
       "    <tr>\n",
       "      <th>...</th>\n",
       "      <td>...</td>\n",
       "      <td>...</td>\n",
       "      <td>...</td>\n",
       "    </tr>\n",
       "    <tr>\n",
       "      <th>1381</th>\n",
       "      <td>D:/Xiaoying/paper/icassp2023/wavs/459-20180908...</td>\n",
       "      <td>NOW, CAN YOU GIVE ME A FEW WORDS TO DESCRIBE T...</td>\n",
       "      <td>&lt;2&gt;&lt;3&gt;&lt;3&gt;&lt;3&gt;&lt;1&gt;&lt;3&gt;&lt;1&gt;&lt;1&gt;&lt;1&gt;&lt;1&gt;&lt;3&gt;&lt;1&gt;&lt;1&gt;&lt;1&gt;&lt;3&gt;</td>\n",
       "    </tr>\n",
       "    <tr>\n",
       "      <th>1382</th>\n",
       "      <td>D:/Xiaoying/paper/icassp2023/wavs/459-20180908...</td>\n",
       "      <td>NOW, CAN YOU GIVE ME A FEW WORDS TO DESCRIBE T...</td>\n",
       "      <td>&lt;3&gt;&lt;3&gt;&lt;1&gt;&lt;3&gt;&lt;3&gt;&lt;1&gt;&lt;3&gt;&lt;1&gt;&lt;1&gt;&lt;3&gt;&lt;3&gt;&lt;1&gt;&lt;3&gt;&lt;3&gt;&lt;1&gt;</td>\n",
       "    </tr>\n",
       "    <tr>\n",
       "      <th>1383</th>\n",
       "      <td>D:/Xiaoying/paper/icassp2023/wavs/459-20180908...</td>\n",
       "      <td>NOW, CAN YOU GIVE ME A FEW WORDS TO DESCRIBE T...</td>\n",
       "      <td>&lt;2&gt;&lt;3&gt;&lt;1&gt;&lt;3&gt;&lt;3&gt;&lt;1&gt;&lt;3&gt;&lt;1&gt;&lt;1&gt;&lt;1&gt;&lt;1&gt;&lt;3&gt;&lt;1&gt;&lt;3&gt;&lt;3&gt;</td>\n",
       "    </tr>\n",
       "    <tr>\n",
       "      <th>1384</th>\n",
       "      <td>D:/Xiaoying/paper/icassp2023/wavs/459-20191108...</td>\n",
       "      <td>NOW, CAN YOU GIVE ME A FEW WORDS TO DESCRIBE T...</td>\n",
       "      <td>&lt;1&gt;&lt;3&gt;&lt;3&gt;&lt;3&gt;&lt;3&gt;&lt;1&gt;&lt;3&gt;&lt;3&gt;&lt;1&gt;&lt;3&gt;&lt;1&gt;&lt;3&gt;&lt;3&gt;&lt;3&gt;&lt;1&gt;</td>\n",
       "    </tr>\n",
       "    <tr>\n",
       "      <th>1385</th>\n",
       "      <td>D:/Xiaoying/paper/icassp2023/wavs/459-20191109...</td>\n",
       "      <td>NOW, CAN YOU GIVE ME A FEW WORDS TO DESCRIBE T...</td>\n",
       "      <td>&lt;1&gt;&lt;3&gt;&lt;3&gt;&lt;3&gt;&lt;1&gt;&lt;3&gt;&lt;3&gt;&lt;3&gt;&lt;3&gt;&lt;1&gt;&lt;1&gt;&lt;3&gt;&lt;3&gt;&lt;1&gt;&lt;3&gt;</td>\n",
       "    </tr>\n",
       "  </tbody>\n",
       "</table>\n",
       "<p>1386 rows × 3 columns</p>\n",
       "</div>"
      ],
      "text/plain": [
       "                                               wav_path  \\\n",
       "0     D:/Xiaoying/paper/icassp2023/wavs/430-20190409...   \n",
       "1     D:/Xiaoying/paper/icassp2023/wavs/430-20190316...   \n",
       "2     D:/Xiaoying/paper/icassp2023/wavs/430-20191219...   \n",
       "3     D:/Xiaoying/paper/icassp2023/wavs/430-20190726...   \n",
       "4     D:/Xiaoying/paper/icassp2023/wavs/430-20190319...   \n",
       "...                                                 ...   \n",
       "1381  D:/Xiaoying/paper/icassp2023/wavs/459-20180908...   \n",
       "1382  D:/Xiaoying/paper/icassp2023/wavs/459-20180908...   \n",
       "1383  D:/Xiaoying/paper/icassp2023/wavs/459-20180908...   \n",
       "1384  D:/Xiaoying/paper/icassp2023/wavs/459-20191108...   \n",
       "1385  D:/Xiaoying/paper/icassp2023/wavs/459-20191109...   \n",
       "\n",
       "                                                  score  \\\n",
       "0     PLENTY OF COMPLICATED THOUGHTS ABOUT THE RAINB...   \n",
       "1     PLENTY OF COMPLICATED THOUGHTS ABOUT THE RAINB...   \n",
       "2     PLENTY OF COMPLICATED THOUGHTS ABOUT THE RAINB...   \n",
       "3     PLENTY OF COMPLICATED THOUGHTS ABOUT THE RAINB...   \n",
       "4     PLENTY OF COMPLICATED THOUGHTS ABOUT THE RAINB...   \n",
       "...                                                 ...   \n",
       "1381  NOW, CAN YOU GIVE ME A FEW WORDS TO DESCRIBE T...   \n",
       "1382  NOW, CAN YOU GIVE ME A FEW WORDS TO DESCRIBE T...   \n",
       "1383  NOW, CAN YOU GIVE ME A FEW WORDS TO DESCRIBE T...   \n",
       "1384  NOW, CAN YOU GIVE ME A FEW WORDS TO DESCRIBE T...   \n",
       "1385  NOW, CAN YOU GIVE ME A FEW WORDS TO DESCRIBE T...   \n",
       "\n",
       "                                               rank  \n",
       "0                       <1><1><3><3><1><1><3><1><1>  \n",
       "1                       <3><3><3><3><3><3><1><3><3>  \n",
       "2                       <3><1><1><3><3><3><3><1><1>  \n",
       "3                       <3><3><3><1><1><1><1><3><1>  \n",
       "4                       <3><1><3><1><3><3><1><3><3>  \n",
       "...                                             ...  \n",
       "1381  <2><3><3><3><1><3><1><1><1><1><3><1><1><1><3>  \n",
       "1382  <3><3><1><3><3><1><3><1><1><3><3><1><3><3><1>  \n",
       "1383  <2><3><1><3><3><1><3><1><1><1><1><3><1><3><3>  \n",
       "1384  <1><3><3><3><3><1><3><3><1><3><1><3><3><3><1>  \n",
       "1385  <1><3><3><3><1><3><3><3><3><1><1><3><3><1><3>  \n",
       "\n",
       "[1386 rows x 3 columns]"
      ]
     },
     "execution_count": 9,
     "metadata": {},
     "output_type": "execute_result"
    }
   ],
   "source": [
    "from sklearn.metrics import f1_score, precision_score, accuracy_score, recall_score, classification_report\n",
    "import pandas as pd\n",
    "\n",
    "# <1><1><3><3><1><1><3><1><1>\n",
    "\n",
    "fine_res = pd.read_csv('./results_details_new.csv',\n",
    "                       sep='\\t',\n",
    "                       names=[\"wav_path\", \"score\", \"rank\"])\n",
    "\n",
    "fine_res"
   ]
  },
  {
   "cell_type": "code",
   "execution_count": 23,
   "metadata": {},
   "outputs": [],
   "source": [
    "def get_report(i):\n",
    "    test_df=pd.read_csv(f'../../test/fine_grain_set/fine_grain_testset_{i}.csv')\n",
    "    labels = []\n",
    "    preds = []\n",
    "    for index, row in test_df.iterrows():\n",
    "        wavid=row['wavid']\n",
    "        label=eval(row['label'])\n",
    "        target_df = fine_res[fine_res['wav_path'].str.contains(wavid)]\n",
    "        pred_val = target_df['rank'].values[0]\n",
    "        # 只取break位置计算metric\n",
    "        true_predictions = [int(i)-1 for i in pred_val if i in ['1','2','3']]\n",
    "        true_labels = [int(i)-1 for i in label[1::2]]\n",
    "\n",
    "        preds.extend(true_predictions)\n",
    "        labels.extend(true_labels)\n",
    "    return [i + 1 for i in labels], [i + 1 for i in preds]\n",
    "    return classification_report(labels, preds, labels=[0, 1, 2], output_dict=True)"
   ]
  },
  {
   "cell_type": "code",
   "execution_count": 26,
   "metadata": {},
   "outputs": [
    {
     "name": "stdout",
     "output_type": "stream",
     "text": [
      "fine-grained: against tts\n"
     ]
    },
    {
     "data": {
      "image/png": "[encoded data removed]",
      "text/plain": [
       "<Figure size 432x288 with 2 Axes>"
      ]
     },
     "metadata": {
      "needs_background": "light"
     },
     "output_type": "display_data"
    }
   ],
   "source": [
    "y_true = []\n",
    "y_pred = []\n",
    "for i in range(0, 5):\n",
    "    t, p = get_report(i)\n",
    "    # print(t, p)\n",
    "    y_true.extend(t)\n",
    "    y_pred.extend(p)\n",
    "print(\"fine-grained: against tts\")\n",
    "show_confusion_max(y_true, y_pred)"
   ]
  },
  {
   "cell_type": "code",
   "execution_count": 2,
   "metadata": {},
   "outputs": [],
   "source": [
    "def get_report(i):\n",
    "    test_df = pd.read_csv(\n",
    "        f'../../test/fine_grain_set/fine_grain_testset_{i}.csv')\n",
    "    labels = []\n",
    "    preds = []\n",
    "    for index, row in test_df.iterrows():\n",
    "        wavid = row['wavid']\n",
    "        label = eval(row['label'])\n",
    "        target_df = fine_res[fine_res['wav_path'].str.contains(wavid)]\n",
    "        pred_val = target_df['rank'].values[0]\n",
    "        true_predictions = [int(i) for i in pred_val if i in ['1','2','3']]\n",
    "        preds.append(true_predictions)\n",
    "    return preds\n",
    "\n",
    "\n",
    "for i in range(0, 5):\n",
    "    path = f'../../scripts/fine-grained_evaluation/res/fine_grain_testset_{i}.csv'\n",
    "    res_df = pd.read_csv(path)\n",
    "    preds = get_report(i)\n",
    "    res_df[\"Against-TTS\"] = preds\n",
    "    res_df.to_csv(path, index=False)"
   ]
  },
  {
   "cell_type": "code",
   "execution_count": 12,
   "metadata": {},
   "outputs": [
    {
     "data": {
      "text/plain": [
       "[3, 3, 2, 3, 3, 3, 3]"
      ]
     },
     "execution_count": 12,
     "metadata": {},
     "output_type": "execute_result"
    }
   ],
   "source": [
    "label='[0, 3, 0, 3, 0, 2, 0, 3, 0, 3, 0, 3, 0, 3, 0]'\n",
    "label=eval(label)\n",
    "true_labels = label[1::2]\n",
    "true_labels"
   ]
  },
  {
   "cell_type": "code",
   "execution_count": 11,
   "metadata": {},
   "outputs": [
    {
     "name": "stdout",
     "output_type": "stream",
     "text": [
      "[{'0': {'precision': 0.04854368932038835, 'recall': 0.9090909090909091, 'f1-score': 0.09216589861751152, 'support': 22}, '1': {'precision': 0.023809523809523808, 'recall': 0.015873015873015872, 'f1-score': 0.019047619047619046, 'support': 63}, '2': {'precision': 0.9791827293754819, 'recall': 0.7623049219687875, 'f1-score': 0.8572392845089436, 'support': 1666}, 'accuracy': 0.7372929754426042, 'macro avg': {'precision': 0.35051198083513135, 'recall': 0.5624229489775708, 'f1-score': 0.3228176007246914, 'support': 1751}, 'weighted avg': {'precision': 0.9331161555137643, 'recall': 0.7372929754426042, 'f1-score': 0.8174690449808597, 'support': 1751}}, {'0': {'precision': 0.028761061946902654, 'recall': 0.8125, 'f1-score': 0.05555555555555555, 'support': 16}, '1': {'precision': 0.029411764705882353, 'recall': 0.0064516129032258064, 'f1-score': 0.010582010582010581, 'support': 155}, '2': {'precision': 0.9585849870578085, 'recall': 0.753731343283582, 'f1-score': 0.8439042916824914, 'support': 1474}, 'accuracy': 0.6838905775075987, 'macro avg': {'precision': 0.3389192712368645, 'recall': 0.5242276520622693, 'f1-score': 0.3033472859400192, 'support': 1645}, 'weighted avg': {'precision': 0.8619898306649069, 'recall': 0.6838905775075987, 'f1-score': 0.757716733415862, 'support': 1645}}, {'0': {'precision': 0.08483754512635379, 'recall': 0.8245614035087719, 'f1-score': 0.15384615384615385, 'support': 57}, '1': {'precision': 0.09523809523809523, 'recall': 0.009389671361502348, 'f1-score': 0.017094017094017096, 'support': 213}, '2': {'precision': 0.9273408239700375, 'recall': 0.7548780487804878, 'f1-score': 0.8322689075630252, 'support': 1640}, 'accuracy': 0.6738219895287958, 'macro avg': {'precision': 0.36913882144482885, 'recall': 0.5296097078835874, 'f1-score': 0.33440302616773204, 'support': 1910}, 'weighted avg': {'precision': 0.8094033537532869, 'recall': 0.6738219895287958, 'f1-score': 0.7211158454521559, 'support': 1910}}, {'0': {'precision': 0.018867924528301886, 'recall': 0.8888888888888888, 'f1-score': 0.03695150115473441, 'support': 18}, '1': {'precision': 0.015384615384615385, 'recall': 0.00819672131147541, 'f1-score': 0.010695187165775402, 'support': 122}, '2': {'precision': 0.9851485148514851, 'recall': 0.7611062077081494, 'f1-score': 0.8587551867219917, 'support': 3399}, 'accuracy': 0.7358010737496468, 'macro avg': {'precision': 0.3398003515881341, 'recall': 0.5527306059695046, 'f1-score': 0.3021339583475005, 'support': 3539}, 'weighted avg': {'precision': 0.9468031499572281, 'recall': 0.7358010737496468, 'f1-score': 0.825340158102023, 'support': 3539}}, {'0': {'precision': 0.02051983584131327, 'recall': 0.9375, 'f1-score': 0.040160642570281124, 'support': 16}, '1': {'precision': 0.0, 'recall': 0.0, 'f1-score': 0.0, 'support': 91}, '2': {'precision': 0.9836567926455567, 'recall': 0.7356760886172651, 'f1-score': 0.8417832167832168, 'support': 2618}, 'accuracy': 0.7122935779816514, 'macro avg': {'precision': 0.33472554282895667, 'recall': 0.5577253628724217, 'f1-score': 0.29398128645116595, 'support': 2725}, 'weighted avg': {'precision': 0.9451529543190932, 'recall': 0.7122935779816514, 'f1-score': 0.8089655162640682, 'support': 2725}}]\n"
     ]
    }
   ],
   "source": [
    "report_res = []\n",
    "for i in range(0, 5):\n",
    "    report_res.append(get_report(i))\n",
    "print(report_res)\n",
    "\n",
    "import json\n",
    "path = './fine_res.json'\n",
    "with open(path,'w') as f:\n",
    "    json.dump(report_res, f)"
   ]
  }
 ],
 "metadata": {
  "kernelspec": {
   "display_name": "Python 3.8.5 ('base')",
   "language": "python",
   "name": "python3"
  },
  "language_info": {
   "codemirror_mode": {
    "name": "ipython",
    "version": 3
   },
   "file_extension": ".py",
   "mimetype": "text/x-python",
   "name": "python",
   "nbconvert_exporter": "python",
   "pygments_lexer": "ipython3",
   "version": "3.8.5"
  },
  "orig_nbformat": 4,
  "vscode": {
   "interpreter": {
    "hash": "d657deb6ac7b2052878647a79f9024288122dd9ae49493c702e0a6f289eb1424"
   }
  }
 },
 "nbformat": 4,
 "nbformat_minor": 2
}
