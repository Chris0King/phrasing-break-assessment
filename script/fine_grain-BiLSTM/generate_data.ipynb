{
 "cells": [
  {
   "cell_type": "code",
   "execution_count": 7,
   "metadata": {},
   "outputs": [],
   "source": [
    "import pandas as pd\n",
    "\n",
    "def generate_data(name):\n",
    "    df=pd.read_csv(f\"../../test/fine_grain_set/{name}.csv\")\n",
    "    res = {'sentence': [], 'label': []}\n",
    "    for index, row in df.iterrows():\n",
    "        sent = row['token']\n",
    "        label=eval(row['label'])\n",
    "        new_sent=\"\"\n",
    "        for index, ch in enumerate(sent):\n",
    "            if ch=='<':\n",
    "                new_sent+=\" <\"\n",
    "            elif ch=='>':\n",
    "                new_sent+=\"> \"\n",
    "            else:\n",
    "                new_sent+=ch\n",
    "        new_label=\" \".join([str(i) for i in label])\n",
    "        res['sentence'].append(new_sent)\n",
    "        res['label'].append(new_label)\n",
    "    res_df = pd.DataFrame(res)\n",
    "    res_df.to_csv(f\"./data/{name}.csv\", index=False, header=False)"
   ]
  },
  {
   "cell_type": "code",
   "execution_count": 8,
   "metadata": {},
   "outputs": [],
   "source": [
    "for i in range(0,5):\n",
    "    dev_name=f'fine_grain_devset_{i}'\n",
    "    test_name = f'fine_grain_testset_{i}'\n",
    "    train_name = f'fine_grain_trainset_{i}'\n",
    "    generate_data(dev_name)\n",
    "    generate_data(test_name)\n",
    "    generate_data(train_name)"
   ]
  }
 ],
 "metadata": {
  "kernelspec": {
   "display_name": "Python 3.8.5 ('base')",
   "language": "python",
   "name": "python3"
  },
  "language_info": {
   "codemirror_mode": {
    "name": "ipython",
    "version": 3
   },
   "file_extension": ".py",
   "mimetype": "text/x-python",
   "name": "python",
   "nbconvert_exporter": "python",
   "pygments_lexer": "ipython3",
   "version": "3.8.5"
  },
  "orig_nbformat": 4,
  "vscode": {
   "interpreter": {
    "hash": "d657deb6ac7b2052878647a79f9024288122dd9ae49493c702e0a6f289eb1424"
   }
  }
 },
 "nbformat": 4,
 "nbformat_minor": 2
}
